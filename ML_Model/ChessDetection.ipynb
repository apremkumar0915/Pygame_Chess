{
  "cells": [
    {
      "cell_type": "code",
      "execution_count": null,
      "metadata": {
        "id": "V_Scpb3Qqcaf"
      },
      "outputs": [],
      "source": [
        "import numpy as np\n",
        "def convert_fen_to_nparray(file_string):\n",
        "  fen_to_int = dict()\n",
        "  fen_to_int[\"r\"] = 1\n",
        "  fen_to_int[\"n\"] = 2\n",
        "  fen_to_int[\"b\"] = 3\n",
        "  fen_to_int[\"q\"] = 4\n",
        "  fen_to_int[\"k\"] = 5\n",
        "  fen_to_int[\"p\"] = 6\n",
        "  fen_to_int[\"R\"] = 7\n",
        "  fen_to_int[\"N\"] = 8\n",
        "  fen_to_int[\"B\"] = 9\n",
        "  fen_to_int[\"Q\"] = 10\n",
        "  fen_to_int[\"K\"] = 11\n",
        "  fen_to_int[\"P\"] = 12\n",
        "  board = np.zeros((8,8),dtype=\"float32\")\n",
        "  row = 0\n",
        "  column = 0\n",
        "  for i in file_string:\n",
        "    try:\n",
        "      i = int(i)\n",
        "      for k in range(i):\n",
        "        column += 1\n",
        "    except:\n",
        "      if i == \"-\":\n",
        "        row += 1\n",
        "        column = 0\n",
        "      else:\n",
        "        board[row,column]=fen_to_int[i]\n",
        "        column += 1\n",
        "  return board\n",
        "\n",
        "\n",
        "def to_one_hot(labels):\n",
        "  results = np.zeros((len(labels)*8,13),dtype=\"float32\")\n",
        "  count = 0\n",
        "  for row in labels:\n",
        "    for element in row:\n",
        "      results[count,int(element)] = 1\n",
        "      count += 1\n",
        "  return results\n",
        "\n",
        "\n"
      ]
    },
    {
      "cell_type": "code",
      "execution_count": null,
      "metadata": {
        "id": "o5xAkszz9i-C"
      },
      "outputs": [],
      "source": [
        "def image_preprocessor(filename):\n",
        "  import PIL\n",
        "  from IPython.display import Image, display\n",
        "  from matplotlib import pyplot as plt\n",
        "  from PIL import Image as im\n",
        "  from PIL import Resampling\n",
        "  img = PIL.Image.open(filename)\n",
        "  img = img.resize((400,400),resample=PIL.Image.Resampling.BOX)\n",
        "\n",
        "  left = 0\n",
        "  top = 0\n",
        "  right = 50\n",
        "  bottom = 50\n",
        "  count = 0\n",
        "\n",
        "  train_data =np.zeros((64,50,50,3),dtype=\"float32\")\n",
        "\n",
        "  for i in range(64):\n",
        "    #(left,top,right,bottom)\n",
        "    img = img.crop([left,top,right,bottom])\n",
        "    left += 50\n",
        "    right += 50\n",
        "    count += 1\n",
        "    if count% 8 == 0:\n",
        "      bottom += 50\n",
        "      top += 50\n",
        "      left = 0\n",
        "      right = 50\n",
        "    img.save(f\"{str(count)}.png\")\n",
        "    train_data[count-1] = np.asarray(img)\n",
        "    display(Image(f\"{str(count)}.png\"))\n",
        "    img = PIL.Image.open(filename)\n",
        "    img = img.resize((400,400),resample=PIL.Image.Resampling.BOX)\n",
        "  #greyscale\n",
        "  train_data = np.dot(train_data[...,:3],[0.2989, 0.5870, 0.1140])\n",
        "  #normalize\n",
        "  train_data /= 255\n",
        "  return train_data\n"
      ]
    },
    {
      "cell_type": "code",
      "execution_count": null,
      "metadata": {
        "id": "_586pOFstwfP",
        "colab": {
          "base_uri": "https://localhost:8080/"
        },
        "outputId": "e9dc9d0d-db2f-42f4-facf-caafb4f25d23"
      },
      "outputs": [
        {
          "output_type": "stream",
          "name": "stdout",
          "text": [
            "100\n",
            "200\n",
            "300\n",
            "400\n",
            "500\n",
            "600\n",
            "700\n",
            "800\n",
            "900\n",
            "1000\n",
            "(64000, 50, 50)\n",
            "(64000, 50, 50)\n",
            "(64000, 13)\n"
          ]
        }
      ],
      "source": [
        "import os\n",
        "from IPython.display import Image, display\n",
        "from PIL import Image as im\n",
        "master_x_test = np.empty((64000,50,50,3))\n",
        "master_y_test = np.empty((0,8))\n",
        "file_count = 0\n",
        "count = 0\n",
        "for filename in os.listdir(\"/content/test\"):\n",
        "   if file_count == 1000:\n",
        "     break\n",
        "   else:\n",
        "     with open(os.path.join(\"/content/test\", filename), 'r') as f:\n",
        "       current_x_train = image_preprocessor(f\"/content/test/{filename}\")\n",
        "       for square in current_x_train:\n",
        "         master_x_test[count] = square\n",
        "         count+=1\n",
        "       current_y_train = convert_fen_to_nparray(filename[:-5])\n",
        "       master_y_test = np.vstack((master_y_test,current_y_train))\n",
        "       file_count+=1\n",
        "       if file_count%100==0:\n",
        "         print(file_count)\n",
        "\n",
        "master_x_test = np.dot(master_x_test[...,:3],[0.2989, 0.5870, 0.1140])\n",
        "print(master_x_test.shape)\n",
        "master_x_test /= 255\n",
        "print(master_x_test.shape)\n",
        "master_y_test = to_one_hot(master_y_test)\n",
        "print(master_y_test.shape)\n",
        "# print(master_x_train[0])\n",
        "# print(master_y_train[0])"
      ]
    },
    {
      "cell_type": "code",
      "execution_count": null,
      "metadata": {
        "id": "Zkd0HZtDGSd8"
      },
      "outputs": [],
      "source": [
        "np.save(\"x_test1000\",master_x_test)\n",
        "np.save(\"y_test1000\",master_y_test)"
      ]
    },
    {
      "cell_type": "code",
      "source": [
        "master_x_train=np.load(\"/content/x_train1000.npy\")\n",
        "master_y_train=np.load(\"/content/y_train1000.npy\")\n",
        "print(master_x_train.shape)\n",
        "print(master_y_train.shape)\n"
      ],
      "metadata": {
        "id": "e70o4WlmAGXD",
        "colab": {
          "base_uri": "https://localhost:8080/"
        },
        "outputId": "313ebcf3-ad94-4838-f6e8-6cb90ac471fe"
      },
      "execution_count": null,
      "outputs": [
        {
          "output_type": "stream",
          "name": "stdout",
          "text": [
            "(64000, 50, 50)\n",
            "(64000, 13)\n"
          ]
        }
      ]
    },
    {
      "cell_type": "code",
      "execution_count": null,
      "metadata": {
        "colab": {
          "base_uri": "https://localhost:8080/"
        },
        "id": "dHSmc7cJaFHc",
        "outputId": "ad15c04f-756e-496a-e3b9-bbcf12ee98a5"
      },
      "outputs": [
        {
          "output_type": "stream",
          "name": "stdout",
          "text": [
            "Model: \"sequential\"\n",
            "_________________________________________________________________\n",
            " Layer (type)                Output Shape              Param #   \n",
            "=================================================================\n",
            " conv2d (Conv2D)             (None, 48, 48, 128)       1280      \n",
            "                                                                 \n",
            " batch_normalization (BatchN  (None, 48, 48, 128)      512       \n",
            " ormalization)                                                   \n",
            "                                                                 \n",
            " conv2d_1 (Conv2D)           (None, 46, 46, 128)       147584    \n",
            "                                                                 \n",
            " max_pooling2d (MaxPooling2D  (None, 23, 23, 128)      0         \n",
            " )                                                               \n",
            "                                                                 \n",
            " batch_normalization_1 (Batc  (None, 23, 23, 128)      512       \n",
            " hNormalization)                                                 \n",
            "                                                                 \n",
            " flatten (Flatten)           (None, 67712)             0         \n",
            "                                                                 \n",
            " dense (Dense)               (None, 128)               8667264   \n",
            "                                                                 \n",
            " batch_normalization_2 (Batc  (None, 128)              512       \n",
            " hNormalization)                                                 \n",
            "                                                                 \n",
            " dense_1 (Dense)             (None, 13)                1677      \n",
            "                                                                 \n",
            "=================================================================\n",
            "Total params: 8,819,341\n",
            "Trainable params: 8,818,573\n",
            "Non-trainable params: 768\n",
            "_________________________________________________________________\n",
            "Epoch 1/10\n",
            "750/750 [==============================] - 27s 23ms/step - loss: 0.0755 - acc: 0.9892 - val_loss: 0.0039 - val_acc: 0.9999\n",
            "Epoch 2/10\n",
            "750/750 [==============================] - 17s 22ms/step - loss: 0.0034 - acc: 0.9995 - val_loss: 5.6479e-04 - val_acc: 1.0000\n",
            "Epoch 3/10\n",
            "750/750 [==============================] - 16s 21ms/step - loss: 4.7385e-04 - acc: 1.0000 - val_loss: 6.5417e-04 - val_acc: 1.0000\n",
            "Epoch 4/10\n",
            "750/750 [==============================] - 17s 22ms/step - loss: 0.0052 - acc: 0.9989 - val_loss: 0.0013 - val_acc: 0.9996\n",
            "Epoch 5/10\n",
            "750/750 [==============================] - 16s 21ms/step - loss: 0.0026 - acc: 0.9992 - val_loss: 7.2135e-04 - val_acc: 0.9998\n",
            "Epoch 6/10\n",
            "748/750 [============================>.] - ETA: 0s - loss: 7.6668e-04 - acc: 0.9999Restoring model weights from the end of the best epoch: 1.\n",
            "750/750 [==============================] - 16s 21ms/step - loss: 7.6478e-04 - acc: 0.9999 - val_loss: 6.8984e-05 - val_acc: 1.0000\n",
            "Epoch 6: early stopping\n"
          ]
        }
      ],
      "source": [
        "import tensorflow as tf\n",
        "import numpy as np\n",
        "from tensorflow.keras.models import Sequential\n",
        "from tensorflow.keras.layers import Dense, Conv2D, MaxPooling2D, Flatten, Dropout\n",
        "from tensorflow.keras.layers import BatchNormalization\n",
        "from tensorflow.keras.callbacks import EarlyStopping\n",
        "import matplotlib.pyplot as plt\n",
        "from tensorflow.keras.preprocessing.image import ImageDataGenerator\n",
        "import zipfile\n",
        "\n",
        "model = Sequential()\n",
        "model.add(Conv2D(filters = 128, kernel_size = (3, 3), activation = 'relu', input_shape = (50, 50, 1)))\n",
        "model.add(BatchNormalization())\n",
        "model.add(Conv2D(filters = 128, kernel_size = (3, 3), activation = 'relu'))\n",
        "model.add(MaxPooling2D(2, 2))\n",
        "model.add(BatchNormalization())\n",
        "model.add(Flatten())\n",
        "model.add(Dense(units = 128, activation = 'relu'))\n",
        "model.add(BatchNormalization())\n",
        "model.add(Dense(units = 13, activation = 'softmax'))\n",
        "model.summary()\n",
        "model.compile(optimizer = 'adam', loss = 'categorical_crossentropy', metrics = ['acc'],)\n",
        "history = model.fit(x = master_x_train, y= master_y_train,\n",
        "                    epochs = 10, batch_size = 64,\n",
        "                    verbose = 1,\n",
        "                    validation_split = 0.25,\n",
        "                    callbacks = [EarlyStopping(min_delta = .001, patience = 5, monitor = 'val_acc', verbose = 1, restore_best_weights = True)])"
      ]
    },
    {
      "cell_type": "code",
      "source": [
        "model.evaluate(master_x_test,master_y_test,verbose=1,batch_size=1)"
      ],
      "metadata": {
        "colab": {
          "base_uri": "https://localhost:8080/"
        },
        "id": "tOERt1rRiOee",
        "outputId": "4369e823-99af-4611-f62d-1e42a3963254"
      },
      "execution_count": null,
      "outputs": [
        {
          "output_type": "stream",
          "name": "stdout",
          "text": [
            "64000/64000 [==============================] - 204s 3ms/step - loss: 0.0039 - acc: 0.9997\n"
          ]
        },
        {
          "output_type": "execute_result",
          "data": {
            "text/plain": [
              "[0.003865791019052267, 0.9997031092643738]"
            ]
          },
          "metadata": {},
          "execution_count": 9
        }
      ]
    },
    {
      "cell_type": "code",
      "source": [
        "import tensorflow as tf\n",
        "import numpy as np\n",
        "new_model = tf.keras.models.load_model('99.97%_model.h5')"
      ],
      "metadata": {
        "id": "C-L192NTjvUi"
      },
      "execution_count": null,
      "outputs": []
    },
    {
      "cell_type": "code",
      "source": [
        "def predict_board(file_name):\n",
        "  board = np.argmax(new_model.predict(image_preprocessor(file_name)),axis=-1)\n",
        "  return np.reshape(board,(8,8))\n",
        "\n",
        "print(predict_board(\"finaltest.jpg\"))"
      ],
      "metadata": {
        "id": "BoyzjWnPlryY"
      },
      "execution_count": null,
      "outputs": []
    }
  ],
  "metadata": {
    "colab": {
      "provenance": []
    },
    "kernelspec": {
      "display_name": "Python 3",
      "name": "python3"
    },
    "language_info": {
      "name": "python"
    },
    "accelerator": "GPU"
  },
  "nbformat": 4,
  "nbformat_minor": 0
}